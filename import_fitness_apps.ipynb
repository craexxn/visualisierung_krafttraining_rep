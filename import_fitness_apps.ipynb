{
 "cells": [
  {
   "cell_type": "code",
   "execution_count": null,
   "id": "192a0f51-8a72-445e-838f-3839af0662b3",
   "metadata": {},
   "outputs": [],
   "source": [
    "import requests\n",
    "import json\n",
    "\n",
    "# API endpoint and authentication information\n",
    "api_url = 'https://api.fitbit.com/1/user/-/activities/list.json'\n",
    "headers = {'Authorization': 'Bearer [your_access_token]'}\n",
    "\n",
    "# Retrieve the data\n",
    "response = requests.get(api_url, headers=headers)\n",
    "data = response.json()\n",
    "\n",
    "# Display the retrieved data\n",
    "print(json.dumps(data, indent=4))"
   ]
  }
 ],
 "metadata": {
  "kernelspec": {
   "display_name": "Python 3 (ipykernel)",
   "language": "python",
   "name": "python3"
  },
  "language_info": {
   "codemirror_mode": {
    "name": "ipython",
    "version": 3
   },
   "file_extension": ".py",
   "mimetype": "text/x-python",
   "name": "python",
   "nbconvert_exporter": "python",
   "pygments_lexer": "ipython3",
   "version": "3.12.4"
  }
 },
 "nbformat": 4,
 "nbformat_minor": 5
}
