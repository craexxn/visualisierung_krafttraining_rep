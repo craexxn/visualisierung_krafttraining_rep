{
 "cells": [
  {
   "cell_type": "code",
   "execution_count": null,
   "id": "4304efc3-398c-4e96-a20e-2444c91361c6",
   "metadata": {},
   "outputs": [],
   "source": [
    "import pandas as pd\n",
    "\n",
    "# Read the CSV file\n",
    "file_path = 'data/training_data.csv'\n",
    "data = pd.read_csv(file_path)\n",
    "\n",
    "# Display the first five rows of the data\n",
    "print(data.head())"
   ]
  }
 ],
 "metadata": {
  "kernelspec": {
   "display_name": "Python 3 (ipykernel)",
   "language": "python",
   "name": "python3"
  },
  "language_info": {
   "codemirror_mode": {
    "name": "ipython",
    "version": 3
   },
   "file_extension": ".py",
   "mimetype": "text/x-python",
   "name": "python",
   "nbconvert_exporter": "python",
   "pygments_lexer": "ipython3",
   "version": "3.12.4"
  }
 },
 "nbformat": 4,
 "nbformat_minor": 5
}
