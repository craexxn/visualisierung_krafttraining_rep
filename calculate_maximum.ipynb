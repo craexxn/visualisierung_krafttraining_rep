{
 "cells": [
  {
   "cell_type": "code",
   "execution_count": 2,
   "id": "1bd010ef-af38-4fb6-97ae-90a02edcabc2",
   "metadata": {},
   "outputs": [
    {
     "name": "stdout",
     "output_type": "stream",
     "text": [
      "Maximum weight per exercise:\n",
      "exercise\n",
      "bench press    140.0\n",
      "deadlift       207.5\n",
      "squat          155.5\n",
      "Name: weight, dtype: float64\n",
      "\n",
      "Maximum reps per exercise:\n",
      "exercise\n",
      "bench press    14\n",
      "deadlift       14\n",
      "squat          14\n",
      "Name: reps, dtype: int64\n",
      "\n",
      "Maximum total weight lifted per exercise:\n",
      "exercise\n",
      "bench press    1344.0\n",
      "deadlift       1974.0\n",
      "squat          1491.0\n",
      "Name: total_weight, dtype: float64\n"
     ]
    }
   ],
   "source": [
    "import pandas as pd\n",
    "\n",
    "# Read the dummy data from the CSV file\n",
    "dummy_data = pd.read_csv('data/dummy_training_data.csv')\n",
    "\n",
    "# Calculate the maximum weight lifted per exercise\n",
    "max_weight = dummy_data.groupby('exercise')['weight'].max()\n",
    "print(\"Maximum weight per exercise:\")\n",
    "print(max_weight)\n",
    "\n",
    "# Calculate the maximum number of reps per exercise\n",
    "max_reps = dummy_data.groupby('exercise')['reps'].max()\n",
    "print(\"\\nMaximum reps per exercise:\")\n",
    "print(max_reps)\n",
    "\n",
    "# Calculate the maximum total weight lifted per exercise\n",
    "max_total_weight = dummy_data.groupby('exercise')['total_weight'].max()\n",
    "print(\"\\nMaximum total weight lifted per exercise:\")\n",
    "print(max_total_weight)\n"
   ]
  },
  {
   "cell_type": "code",
   "execution_count": null,
   "id": "c9726876-9a2a-4d39-b49a-371c081e94d5",
   "metadata": {},
   "outputs": [],
   "source": []
  }
 ],
 "metadata": {
  "kernelspec": {
   "display_name": "Python 3 (ipykernel)",
   "language": "python",
   "name": "python3"
  },
  "language_info": {
   "codemirror_mode": {
    "name": "ipython",
    "version": 3
   },
   "file_extension": ".py",
   "mimetype": "text/x-python",
   "name": "python",
   "nbconvert_exporter": "python",
   "pygments_lexer": "ipython3",
   "version": "3.12.4"
  }
 },
 "nbformat": 4,
 "nbformat_minor": 5
}
