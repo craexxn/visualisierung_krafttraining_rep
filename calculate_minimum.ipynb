{
 "cells": [
  {
   "cell_type": "code",
   "execution_count": 1,
   "id": "16cb60e0-0662-463b-a451-4076f3dd198d",
   "metadata": {},
   "outputs": [
    {
     "name": "stdout",
     "output_type": "stream",
     "text": [
      "Minimum weight per exercise:\n",
      "exercise\n",
      "bench press     88.0\n",
      "deadlift       130.0\n",
      "squat           97.5\n",
      "Name: weight, dtype: float64\n",
      "\n",
      "Minimum reps per exercise:\n",
      "exercise\n",
      "bench press    1\n",
      "deadlift       1\n",
      "squat          1\n",
      "Name: reps, dtype: int64\n",
      "\n",
      "Minimum total weight lifted per exercise:\n",
      "exercise\n",
      "bench press    128.0\n",
      "deadlift       190.0\n",
      "squat          143.5\n",
      "Name: total_weight, dtype: float64\n"
     ]
    }
   ],
   "source": [
    "import pandas as pd\n",
    "\n",
    "# Read the dummy data from the CSV file\n",
    "dummy_data = pd.read_csv('data/dummy_training_data.csv')\n",
    "\n",
    "# Calculate the minimum weight lifted per exercise\n",
    "min_weight = dummy_data.groupby('exercise')['weight'].min()\n",
    "print(\"Minimum weight per exercise:\")\n",
    "print(min_weight)\n",
    "\n",
    "# Calculate the minimum number of reps per exercise\n",
    "min_reps = dummy_data.groupby('exercise')['reps'].min()\n",
    "print(\"\\nMinimum reps per exercise:\")\n",
    "print(min_reps)\n",
    "\n",
    "# Calculate the minimum total weight lifted per exercise\n",
    "min_total_weight = dummy_data.groupby('exercise')['total_weight'].min()\n",
    "print(\"\\nMinimum total weight lifted per exercise:\")\n",
    "print(min_total_weight)\n"
   ]
  },
  {
   "cell_type": "code",
   "execution_count": null,
   "id": "afda37af-1b25-4fcf-847a-e29632043eef",
   "metadata": {},
   "outputs": [],
   "source": []
  }
 ],
 "metadata": {
  "kernelspec": {
   "display_name": "Python 3 (ipykernel)",
   "language": "python",
   "name": "python3"
  },
  "language_info": {
   "codemirror_mode": {
    "name": "ipython",
    "version": 3
   },
   "file_extension": ".py",
   "mimetype": "text/x-python",
   "name": "python",
   "nbconvert_exporter": "python",
   "pygments_lexer": "ipython3",
   "version": "3.12.4"
  }
 },
 "nbformat": 4,
 "nbformat_minor": 5
}
