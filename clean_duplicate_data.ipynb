{
 "cells": [
  {
   "cell_type": "code",
   "execution_count": null,
   "id": "4f6f482c-1009-4f53-b240-528d8bbe7808",
   "metadata": {},
   "outputs": [],
   "source": [
    "# Identify duplicate rows\n",
    "duplicates = data[data.duplicated()]\n",
    "\n",
    "# Display duplicate rows\n",
    "print(duplicates)\n",
    "\n",
    "# Remove duplicate rows\n",
    "data_no_duplicates = data.drop_duplicates()\n",
    "\n",
    "# Display the data without duplicates\n",
    "print(data_no_duplicates.head())\n"
   ]
  }
 ],
 "metadata": {
  "kernelspec": {
   "display_name": "Python 3 (ipykernel)",
   "language": "python",
   "name": "python3"
  },
  "language_info": {
   "codemirror_mode": {
    "name": "ipython",
    "version": 3
   },
   "file_extension": ".py",
   "mimetype": "text/x-python",
   "name": "python",
   "nbconvert_exporter": "python",
   "pygments_lexer": "ipython3",
   "version": "3.12.4"
  }
 },
 "nbformat": 4,
 "nbformat_minor": 5
}
