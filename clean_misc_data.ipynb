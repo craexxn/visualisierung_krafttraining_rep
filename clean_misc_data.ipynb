{
 "cells": [
  {
   "cell_type": "code",
   "execution_count": null,
   "id": "48a0a16b-6dc5-4b10-822e-62957ac5b14f",
   "metadata": {},
   "outputs": [],
   "source": [
    "import pandas as pd\n",
    "\n",
    "# Read the CSV file\n",
    "file_path = 'data/training_data.csv'\n",
    "data = pd.read_csv(file_path)\n",
    "\n",
    "# Create a new column for the total weight lifted in a session\n",
    "data['total_weight'] = data['reps'] * data['weight']\n",
    "\n",
    "# Normalize the weight column\n",
    "data['weight_normalized'] = (data['weight'] - data['weight'].min()) / \n",
    "(data['weight'].max() - data['weight'].min())\n",
    "\n",
    "# Filter data for a specific date range\n",
    "start_date = '2023-01-01'\n",
    "end_date = '2023-12-31'\n",
    "filtered_data = data[(data['date'] >= start_date) & (data['date'] <= end_date)]\n",
    "\n",
    "# Display the processed data\n",
    "print(filtered_data.head())"
   ]
  }
 ],
 "metadata": {
  "kernelspec": {
   "display_name": "Python 3 (ipykernel)",
   "language": "python",
   "name": "python3"
  },
  "language_info": {
   "codemirror_mode": {
    "name": "ipython",
    "version": 3
   },
   "file_extension": ".py",
   "mimetype": "text/x-python",
   "name": "python",
   "nbconvert_exporter": "python",
   "pygments_lexer": "ipython3",
   "version": "3.12.4"
  }
 },
 "nbformat": 4,
 "nbformat_minor": 5
}
