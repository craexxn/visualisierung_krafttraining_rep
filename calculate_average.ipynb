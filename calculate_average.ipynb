{
 "cells": [
  {
   "cell_type": "code",
   "execution_count": 1,
   "id": "cd1d3a35-3bd2-40e8-bcd0-d1d6d49f95b8",
   "metadata": {},
   "outputs": [
    {
     "name": "stdout",
     "output_type": "stream",
     "text": [
      "Average weight per exercise:\n",
      "exercise\n",
      "bench press    112.301242\n",
      "deadlift       163.015528\n",
      "squat          123.944099\n",
      "Name: weight, dtype: float64\n",
      "\n",
      "Average reps per exercise:\n",
      "exercise\n",
      "bench press    7.099379\n",
      "deadlift       7.453416\n",
      "squat          7.155280\n",
      "Name: reps, dtype: float64\n",
      "\n",
      "Average total weight lifted per exercise:\n",
      "exercise\n",
      "bench press     728.161491\n",
      "deadlift       1119.080745\n",
      "squat           818.795031\n",
      "Name: total_weight, dtype: float64\n"
     ]
    }
   ],
   "source": [
    "import pandas as pd\n",
    "\n",
    "# Read the dummy data from the CSV file\n",
    "dummy_data = pd.read_csv('data/dummy_training_data.csv')\n",
    "\n",
    "# Calculate the average weight lifted per exercise\n",
    "average_weight = dummy_data.groupby('exercise')['weight'].mean()\n",
    "print(\"Average weight per exercise:\")\n",
    "print(average_weight)\n",
    "\n",
    "# Calculate the average number of reps per exercise\n",
    "average_reps = dummy_data.groupby('exercise')['reps'].mean()\n",
    "print(\"\\nAverage reps per exercise:\")\n",
    "print(average_reps)\n",
    "\n",
    "# Calculate the average total weight lifted per exercise\n",
    "average_total_weight = dummy_data.groupby('exercise')['total_weight'].mean()\n",
    "print(\"\\nAverage total weight lifted per exercise:\")\n",
    "print(average_total_weight)\n"
   ]
  },
  {
   "cell_type": "code",
   "execution_count": null,
   "id": "fed1020c-ebd5-4de9-ab2b-ed1f680ab576",
   "metadata": {},
   "outputs": [],
   "source": []
  }
 ],
 "metadata": {
  "kernelspec": {
   "display_name": "Python 3 (ipykernel)",
   "language": "python",
   "name": "python3"
  },
  "language_info": {
   "codemirror_mode": {
    "name": "ipython",
    "version": 3
   },
   "file_extension": ".py",
   "mimetype": "text/x-python",
   "name": "python",
   "nbconvert_exporter": "python",
   "pygments_lexer": "ipython3",
   "version": "3.12.4"
  }
 },
 "nbformat": 4,
 "nbformat_minor": 5
}
