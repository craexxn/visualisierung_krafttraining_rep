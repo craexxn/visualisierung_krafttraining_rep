{
 "cells": [
  {
   "cell_type": "code",
   "execution_count": null,
   "id": "845ae223-ccb9-43f2-b92a-7943336f12a1",
   "metadata": {},
   "outputs": [],
   "source": [
    "import requests\n",
    "\n",
    "# API endpoint and authentication information\n",
    "api_url = 'https://api.garmin.com/wellness-api/rest/heartRate'\n",
    "headers = {'Authorization': 'Bearer [your_access_token]'}\n",
    "\n",
    "# Retrieve the data\n",
    "response = requests.get(api_url, headers=headers)\n",
    "data = response.json()\n",
    "\n",
    "# Display the retrieved data\n",
    "print(data)"
   ]
  }
 ],
 "metadata": {
  "kernelspec": {
   "display_name": "Python 3 (ipykernel)",
   "language": "python",
   "name": "python3"
  },
  "language_info": {
   "codemirror_mode": {
    "name": "ipython",
    "version": 3
   },
   "file_extension": ".py",
   "mimetype": "text/x-python",
   "name": "python",
   "nbconvert_exporter": "python",
   "pygments_lexer": "ipython3",
   "version": "3.12.4"
  }
 },
 "nbformat": 4,
 "nbformat_minor": 5
}
